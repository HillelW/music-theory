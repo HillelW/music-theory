{
 "cells": [
  {
   "cell_type": "markdown",
   "id": "05fd1006",
   "metadata": {},
   "source": [
    "# Music Theory with Abstract Algebra and Python<a name=\"cite_ref-1\"></a>[<sup>[1]</sup>](#cite_note-1)\n",
    "\n",
    "\n",
    "\n",
    "## Pitches as Abstractions from Wave Forms\n",
    "\n",
    "A musical instrument generates periodic waves in the medium in which it is embedded. Suppose two instruments such as a piano and guitar play what is commonly regarded as \"the same note\". Inspection of the two resulting wave forms in this case reveals that the two wave forms are *not* identical. \n",
    "\n",
    "From this example, we can see that the notion of pitch is an *equivalence relation* over the set of wave forms. Two wave forms are considered equivalent and said to have *the same pitch* if they strike the listener as qualitatively being \"the same note\". This equivalence relation partitions the set of wave forms into disjoint equivalence classes. Each wave form belongs to just one pitch equivalence class.\n",
    "\n",
    "The standard keyboard ranges from 4 octaves below A4 (tunded to 440 HZ), to 4 octaves above middle C (C4), for a total of 88 individual pitches based on the equal-tempered scale.\n",
    "\n",
    "The pitch that lies 4 octaves below A4 is called \"A0\" and the pitch that lies 4 octaves above A4 is called \"C8\".\n",
    "\n",
    "The set of all pitches on the keyboard is called *chromatic pitch-space* and corresponds to the set:\n",
    "\n",
    "{A0, ..., C8}.\n",
    "\n",
    "Note that the above is a *set of sets*, since each element of the above set is itself an equivalence class of pitches. For example, an A0 can be played on a guitar, flute, violin, etc. even though the timbre of each instrument is associated with a distinct wave form.\n",
    "\n",
    "# Tones as Abstractions from Pitches\n",
    "\n",
    "Any two pitches separated by either 0 or 12 chromatic steps (an octave) are considered equivalent (not necessarily equal). If we view this relation as a set of ordered pairs of the form (pitch_1, pitch_2), then this relation is reflexive, symmetric and transitive. Such a relation is called an equivalence relation. This equivalence relation partitions the set of pitches in pitch-space into disjoint pitch classes<a name=\"cite_ref-2\"></a>[<sup>[2]</sup>](#cite_note-2) in the same way that the integers can be partitioned into disjoint equivalence classes by imposing an equivalence relation modulo 12.\n",
    "\n",
    "Each pitch class is the set of all pitches which are equivalent under the octave equivalence relation. Because there are only 12 pitch classes, we can label them using the integers from 0 to 11.\n",
    "\n",
    "For example:\n",
    "\n",
    "0 = {C0, C1, ... C8},\n",
    "2 = {D0, D1, ... D8},\n",
    "...\n",
    "11 = {B0, B1, ... B8}.\n",
    "\n",
    "We can concisely represent the set of all pitch classes as:\n",
    "\n",
    "{0, 1, 2, 3, 4, 5, 6, 7, 8, 9, 10, 11}.\n",
    "\n",
    "The above set corresponds to chromatic pitch-class space.\n",
    "\n",
    "It is important to keep the distinction between pitch-space and pitch-class space clear since the two spaces have different properties, such as how to compute the distance between any two elements in a given space.\n",
    "\n",
    "Pitch-class space is properly understood as a set of sets since each element of the set is itself a set of equivalent pitches. However, when performing computations, we can usually pretend as if pitch-class space is just a set of 12 numbers without any loss of generality.\n",
    "\n",
    "The elements of pitch-class space are often called tones. The elements of pitch space are usually called pitches.\n",
    "\n",
    "The set of pitch classes is indepdendent of any particular tuning. For example, the element 0 could theoretically represent the set of all C pitches, D pitches, etc. However, we will obey the arbitrary convention of associating 0 with all of the C pitches on the keyboard.\n",
    "\n",
    "\n",
    "To implement these ideas in Python, we begin with an ordered pair of the form (S, ~), where S is any set, and ~ is an equivalence relation on thet set S. Such an ordered pair is called a *setoid*.<a name=\"cite_ref-3\"></a>[<sup>[3]</sup>](#cite_note-3)\n",
    "\n",
    "Given a setoid, we can apply the equivalence relation ~ to the set S to obtain the set of equivalence classes obtained by using ~ to partition the set S into disjoint sets.\n",
    "\n",
    "\n",
    "\n",
    "<a name=\"cite_note-1\"></a>1. Based on YouTube Lectures by NJ Wildbgerger. See https://www.youtube.com/watch?v=_jeJpk5gWzo&t=1405s.   \n",
    "Related concepts can be found in the first chapter of *Mathematics and Music* by David Wright.\n",
    "\n",
    "<a name=\"cite_note-2\"></a>2. For an intuitive explanation of the relationship between an equivalence relation and its corresponding disjoint set of equivalence classes, see https://math.stackexchange.com/questions/119054/modular-arithmetic-and-equivalence-classes..\n",
    "\n",
    "<a name=\"cite_note-3\"></a>3. See https://en.wikipedia.org/wiki/Setoid.\n"
   ]
  },
  {
   "cell_type": "markdown",
   "id": "a0191eb3",
   "metadata": {},
   "source": [
    "The follwoing Python code shows how each of the integers from 0-59 (the same holds for all integers) falls into one of 12 unique buckets under the equivalence relation which considers two integers equivalent if they leave the same remainder after division by 12:"
   ]
  },
  {
   "cell_type": "code",
   "execution_count": 1,
   "id": "daefd645",
   "metadata": {},
   "outputs": [
    {
     "name": "stdout",
     "output_type": "stream",
     "text": [
      "integers from 0 to 59 partitioned into equivalence classes modulo 12:\n",
      "\n",
      "[[0, 12, 24, 36, 48],\n",
      " [1, 13, 25, 37, 49],\n",
      " [2, 14, 26, 38, 50],\n",
      " [3, 15, 27, 39, 51],\n",
      " [4, 16, 28, 40, 52],\n",
      " [5, 17, 29, 41, 53],\n",
      " [6, 18, 30, 42, 54],\n",
      " [7, 19, 31, 43, 55],\n",
      " [8, 20, 32, 44, 56],\n",
      " [9, 21, 33, 45, 57],\n",
      " [10, 22, 34, 46, 58],\n",
      " [11, 23, 35, 47, 59]]\n"
     ]
    }
   ],
   "source": [
    "from typing import Any, Callable, NamedTuple, Iterable\n",
    "from pprint import pprint\n",
    "\n",
    "\n",
    "class Setoid(NamedTuple):\n",
    "    iterable: Iterable\n",
    "    equivalence_relation: Callable[[Any, Any], bool]\n",
    "        \n",
    "\n",
    "def get_equivalence_classes(iterable: Iterable, are_equivalent: Callable[[Any, Any], bool]) -> list[list]:\n",
    "    '''equivalence classes are also called 'remainder classes', 'congruence classes' and 'residue classes'.\n",
    "       the set of all equivalence classes of the set S under the equivalence relation ~ \n",
    "       is called the 'quotient set of S under the relation ~'.'''\n",
    "    iterable: Iterable = setoid.iterable \n",
    "    are_equivalent: Callable[[Any, Any], bool] = setoid.equivalence_relation\n",
    "    partitions = [] \n",
    "    \n",
    "    for element in iterable: \n",
    "        found = False \n",
    "        for partition in partitions:\n",
    "            if are_equivalent(element, partition[0]):\n",
    "                partition.append(element)\n",
    "                found = True\n",
    "                break\n",
    "        if not found:\n",
    "            partitions.append([element])\n",
    "    return partitions\n",
    "\n",
    "\n",
    "def are_equivalent_modulo_twelve(element_1: int, element_2: int):\n",
    "    return element_1 % 12 == element_2 % 12\n",
    "\n",
    "\n",
    "iterable = range(60)\n",
    "equivalence_relation = are_equivalent_modulo_twelve\n",
    "setoid = Setoid(iterable=iterable, equivalence_relation=equivalence_relation)\n",
    "\n",
    "print('integers from 0 to 59 partitioned into equivalence classes modulo 12:\\n')\n",
    "pprint(get_equivalence_classes(iterable, equivalence_relation))"
   ]
  },
  {
   "cell_type": "markdown",
   "id": "63515f82",
   "metadata": {},
   "source": [
    "Once we have the set of a all equivalence classes, we generally pick the smallest element from each class as a *representative* of that class. We can then define a function that maps each representative into its corresponding equivalence class:"
   ]
  },
  {
   "cell_type": "code",
   "execution_count": 2,
   "id": "fa6c843f",
   "metadata": {},
   "outputs": [
    {
     "name": "stdout",
     "output_type": "stream",
     "text": [
      "a map associating each representative with its corresponding equivalence class:\n",
      "\n",
      "{0: [0, 12, 24, 36, 48],\n",
      " 1: [1, 13, 25, 37, 49],\n",
      " 2: [2, 14, 26, 38, 50],\n",
      " 3: [3, 15, 27, 39, 51],\n",
      " 4: [4, 16, 28, 40, 52],\n",
      " 5: [5, 17, 29, 41, 53],\n",
      " 6: [6, 18, 30, 42, 54],\n",
      " 7: [7, 19, 31, 43, 55],\n",
      " 8: [8, 20, 32, 44, 56],\n",
      " 9: [9, 21, 33, 45, 57],\n",
      " 10: [10, 22, 34, 46, 58],\n",
      " 11: [11, 23, 35, 47, 59]}\n"
     ]
    }
   ],
   "source": [
    "def map_representatives_to_equivalence_classes(equivalence_classes: list[list]) -> dict:\n",
    "    result = {}\n",
    "    for equivalence_class in equivalence_classes:\n",
    "        first_element = equivalence_class[0]\n",
    "        result[first_element] = equivalence_class\n",
    "    return result\n",
    "\n",
    "iterable = range(60)\n",
    "equivalence_classes = get_equivalence_classes(iterable, equivalence_relation)\n",
    "\n",
    "print('a map associating each representative with its corresponding equivalence class:\\n')\n",
    "pprint(map_representatives_to_equivalence_classes(equivalence_classes))"
   ]
  },
  {
   "cell_type": "markdown",
   "id": "1f86ebc2",
   "metadata": {},
   "source": [
    "\"Addition\" of equivalence classes is defined by using the representatives of the equivalence classes in the sum. For example, to add the equivalence class labeled by 2 and the equivalence class labeled by 3, we first add 2 + 3 = 5. Therefore, the result is the equivalence class associated with the numebr 5. \n",
    "\n",
    "Note that the operatiof of modular addition only has closure if the initial set S is an infinite set of *all integers*. If the set S is finite, then the operation does not have closure because we can \"fall off the end\" of the set by adding two integers whose sum is not in S."
   ]
  },
  {
   "cell_type": "code",
   "execution_count": 3,
   "id": "a2dc52b2",
   "metadata": {},
   "outputs": [
    {
     "name": "stdout",
     "output_type": "stream",
     "text": [
      "the modular sum of [2, 14, 26, 38, 50] and  [3, 15, 27, 39, 51] is:\n"
     ]
    },
    {
     "data": {
      "text/plain": [
       "[5, 17, 29, 41, 53]"
      ]
     },
     "execution_count": 3,
     "metadata": {},
     "output_type": "execute_result"
    }
   ],
   "source": [
    "def add_equivalence_classes(quotient_set, equivalence_class_representative_1, equivalence_class_representative_2) -> list[int]:\n",
    "    return quotient_set[equivalence_class_representative_1 + equivalence_class_representative_2]\n",
    "\n",
    "representatives = map_representatives_to_equivalence_classes(equivalence_classes)\n",
    "print('the modular sum of [2, 14, 26, 38, 50] and  [3, 15, 27, 39, 51] is:')\n",
    "add_equivalence_classes(representatives, 2, 3)"
   ]
  },
  {
   "cell_type": "markdown",
   "id": "baae66ad",
   "metadata": {},
   "source": [
    "Because equivalence classes can be added by adding the corresponding representatives and finding the resulting equivalence class, we usually simplify matters by working the set {0, ..., 11}. Another benefit of using this compact notation is that we can easily compute modular additions without falling off the end of the set:"
   ]
  },
  {
   "cell_type": "code",
   "execution_count": 4,
   "id": "ea177d26",
   "metadata": {},
   "outputs": [
    {
     "data": {
      "text/plain": [
       "8"
      ]
     },
     "execution_count": 4,
     "metadata": {},
     "output_type": "execute_result"
    }
   ],
   "source": [
    "def modular_addition(int_1: int, int_2: int) -> int:\n",
    "    return (int_1 + int_2) % 12\n",
    "\n",
    "modular_addition(500, 600)"
   ]
  },
  {
   "cell_type": "markdown",
   "id": "f7b6d87d",
   "metadata": {},
   "source": [
    "We can carry out similar operations with chromatic pitch strings as we did above with the integers:"
   ]
  },
  {
   "cell_type": "code",
   "execution_count": 5,
   "id": "b33c8ea7",
   "metadata": {
    "scrolled": true
   },
   "outputs": [
    {
     "name": "stdout",
     "output_type": "stream",
     "text": [
      "chromatic pitch strings:\n",
      "\n",
      "A0 B0 C0 D0 E0 F0 G0 A1 B1 C1 D1 E1 F1 G1 A2 B2 C2 D2 E2 F2 G2 A3 B3 C3 D3 E3 F3 G3 A4 B4 C4 D4 E4 F4 G4 A5 B5 C5 D5 E5 F5 G5 A6 B6 C6 D6 E6 F6 G6 A7 B7 C7 D7 E7 F7 G7 A8 B8 C8 D8 E8 F8 G8 "
     ]
    }
   ],
   "source": [
    "def get_chromatic_pitch_strings() -> list[str]:\n",
    "    chromatic_letters = ['A', 'B', 'C', 'D', 'E', 'F', 'G' ]\n",
    "    chromatic_pitch_strings = []\n",
    "    for i in range(0, 9):\n",
    "        for chromatic_letter in chromatic_letters:\n",
    "                chromatic_pitch_strings.append(f\"{chromatic_letter}{i}\")\n",
    "    return chromatic_pitch_strings\n",
    "                                    \n",
    "chromatic_pitch_strings = get_chromatic_pitch_strings()      \n",
    "print('chromatic pitch strings:\\n')\n",
    "for chromatic_pitch_string in chromatic_pitch_strings:\n",
    "    print(chromatic_pitch_string, end=' ')"
   ]
  },
  {
   "cell_type": "code",
   "execution_count": 6,
   "id": "c545c645",
   "metadata": {},
   "outputs": [
    {
     "name": "stdout",
     "output_type": "stream",
     "text": [
      "pitch strings partitioned into equivalence classes modulo octave:\n",
      "\n",
      "[['A0', 'A1', 'A2', 'A3', 'A4', 'A5', 'A6', 'A7', 'A8'], ['B0', 'B1', 'B2', 'B3', 'B4', 'B5', 'B6', 'B7', 'B8'], ['C0', 'C1', 'C2', 'C3', 'C4', 'C5', 'C6', 'C7', 'C8'], ['D0', 'D1', 'D2', 'D3', 'D4', 'D5', 'D6', 'D7', 'D8'], ['E0', 'E1', 'E2', 'E3', 'E4', 'E5', 'E6', 'E7', 'E8'], ['F0', 'F1', 'F2', 'F3', 'F4', 'F5', 'F6', 'F7', 'F8'], ['G0', 'G1', 'G2', 'G3', 'G4', 'G5', 'G6', 'G7', 'G8']]\n"
     ]
    }
   ],
   "source": [
    "def are_equivalent_modulo_octave(pitch_1: str, pitch_2: str):\n",
    "    tone_1 = pitch_1[0]\n",
    "    tone_2 = pitch_2[0]\n",
    "    return tone_1 == tone_2\n",
    "\n",
    "iterable = chromatic_pitch_strings\n",
    "equivalence_relation = are_equivalent_modulo_octave\n",
    "setoid = Setoid(iterable=iterable, equivalence_relation=equivalence_relation)\n",
    "\n",
    "print('pitch strings partitioned into equivalence classes modulo octave:\\n')\n",
    "print(get_equivalence_classes(iterable, equivalence_relation))"
   ]
  },
  {
   "cell_type": "markdown",
   "id": "c363f889",
   "metadata": {},
   "source": [
    "From the above, we can see that the integers modulo 12 and the pitch strings modulo octave are isomorphic. That is, they both exhibit the exact same structure, but use different labels. Due to this isomorphism, when reasoning about tones, we can instead use the integers modulo 12 without loss of generality. \n",
    "\n",
    "One feature of the integers modulo 12 is that starting from some initial position, if 1 is added one over and over again, the initial position is always reached again. In particular, if 1 is added to the initial position 12 times, the initial position is always reached again.  \n",
    "\n",
    "For example:"
   ]
  },
  {
   "cell_type": "code",
   "execution_count": 23,
   "id": "2035db91",
   "metadata": {},
   "outputs": [
    {
     "name": "stdout",
     "output_type": "stream",
     "text": [
      "initial position: 5\n",
      "final position after 12 addtions of 1: 5\n"
     ]
    }
   ],
   "source": [
    "initial_position = 5\n",
    "for i in range(12):\n",
    "    initial_position = modular_addition(initial_position, 1)\n",
    "\n",
    "print('initial position: 5')\n",
    "print(f'final position after 12 addtions of 1: {initial_position}')"
   ]
  },
  {
   "cell_type": "markdown",
   "id": "c7ac0d21",
   "metadata": {},
   "source": [
    "Because the integers modulo 12 have this repeating structure, they are often depicted as a *chromatic circle* with a 0 at the top and the numbers increasing to 11 in a clock-wise direction. This conventional diagram has not geometrical content. It is only the *topoology* of the diagram which matters in this case.\n",
    "\n",
    "The chromatic circle implicitly makes use of the following chromatic_interval_function:"
   ]
  },
  {
   "cell_type": "code",
   "execution_count": 27,
   "id": "f5f08fdc",
   "metadata": {},
   "outputs": [
    {
     "name": "stdout",
     "output_type": "stream",
     "text": [
      "chromatic interval between 5 and 6: 1\n",
      "chromatic interval between 11 and 2: 3\n",
      "chromatic interval between 6 and 5: 11\n"
     ]
    }
   ],
   "source": [
    "def chromatic_interval_function(int_1: int, int_2: int) -> int:\n",
    "    return (int_2 - int_1) % 12\n",
    "\n",
    "\n",
    "print('chromatic interval between 5 and 6:', end=' ')\n",
    "print(chromatic_interval_function(5, 6))\n",
    "\n",
    "print('chromatic interval between 11 and 2:', end=' ')\n",
    "print(chromatic_interval_function(11, 2))\n",
    "\n",
    "print('chromatic interval between 6 and 5:', end=' ')\n",
    "print(chromatic_interval_function(6, 5))"
   ]
  },
  {
   "cell_type": "markdown",
   "id": "dfd04255",
   "metadata": {},
   "source": [
    "From the above, we can see that the order of the inputs into the standard chromatic interval function makes a difference. In other words, the chromatic distance function is *not* a standard distance function like the absolute value function where the result is the same regardless of the order of the inputs.\n",
    "\n",
    "Using the chromatic distance function, we see that tones separate by one semitone chromatically are considered \"close\". For example, using the chromatic interval function, C and C# are only a distance of 1 away from each other.\n",
    "\n",
    "It is often convenient to use other interval functions. For example, if we are concerned with *harmonic closeness*, then a chromatic interval function may be inappropriate. For example, C and C# are *not* close to each other in harmonic space. In harmonic space, C and G are much closer to each other than are C and C#. \n",
    "\n",
    "For this purpose, an alternative interval function is introduced, where notes separated by 7 semitones (commonly called \"a fifth\" when thinking from the perspective that the 7 diatonic tones are more fundamental than those reached with accidentals) are considered 1 step away from each other in harmonic space. The harmonic interval function leverages<a name=\"cite_ref-3\"></a>[<sup>[3]</sup>](#cite_note-3) the chromatic interval function, but multiplies the result by 7 and takes the remainder after division by 12: \n",
    "\n",
    "<a name=\"cite_note-3\"></a>3. See *Diffusion, Quantum Theory, and Radically Elementary Mathematics*, p. 212. "
   ]
  },
  {
   "cell_type": "code",
   "execution_count": 29,
   "id": "a3713758",
   "metadata": {},
   "outputs": [
    {
     "name": "stdout",
     "output_type": "stream",
     "text": [
      "harmonic disatnce between 0 and 7: 1\n",
      "harmonic disatnce between 7 and 0: 11\n"
     ]
    }
   ],
   "source": [
    "def harmonic_interval_function(int_1: int, int_2: int) -> int:\n",
    "    return (7 * chromatic_interval_function(int_1, int_2)) % 12\n",
    "\n",
    "\n",
    "# equivalent to the harmonic interval between C and G\n",
    "print('harmonic interval between 0 and 7:', end=' ')\n",
    "print(harmonic_interval_function(0, 7))\n",
    "\n",
    "print('harmonic interval between 7 and 0:', end=' ')\n",
    "print(harmonic_interval_function(7, 0))"
   ]
  },
  {
   "cell_type": "markdown",
   "id": "5fc95324",
   "metadata": {},
   "source": [
    "we can also define unordered versions of the chromatic and harmonic interval functions if we are only interested in the shortest distance from one tone to another:"
   ]
  },
  {
   "cell_type": "code",
   "execution_count": 30,
   "id": "0944ed10",
   "metadata": {},
   "outputs": [
    {
     "name": "stdout",
     "output_type": "stream",
     "text": [
      "symmetric chromatic interval between 5 and 6: 1\n",
      "symmetric chromatic interval between 6 and 5: 1\n",
      "symmetric chromatic interval between 0 and 7: 1\n",
      "symmetric chromatic interval between 7 and 0: 1\n"
     ]
    }
   ],
   "source": [
    "def symmetric_chromatic_interval_function(int_1: int, int_2: int) -> int:\n",
    "    distance_1 = chromatic_interval_function(int_1, int_2)\n",
    "    distance_2 = chromatic_interval_function(int_2, int_1)\n",
    "    return min(distance_1, distance_2)\n",
    "\n",
    "\n",
    "def symmetric_harmonic_interval_function(int_1: int, int_2: int) -> int:\n",
    "    distance_1 = harmonic_interval_function(int_1, int_2)\n",
    "    distance_2 = harmonic_interval_function(int_2, int_1)\n",
    "    return min(distance_1, distance_2)\n",
    "\n",
    "print('symmetric chromatic interval between 5 and 6:', end=' ')\n",
    "print(symmetric_chromatic_interval_function(5, 6))\n",
    "print('symmetric chromatic interval between 6 and 5:', end=' ')\n",
    "print(symmetric_chromatic_interval_function(6, 5))\n",
    "print('symmetric chromatic interval between 0 and 7:', end=' ')\n",
    "print(symmetric_harmonic_interval_function(0, 7))\n",
    "print('symmetric chromatic interval between 7 and 0:', end=' ')\n",
    "print(symmetric_harmonic_interval_function(7, 0))"
   ]
  },
  {
   "cell_type": "markdown",
   "id": "ca620fa5",
   "metadata": {},
   "source": [
    "The circle of fifths can be generated either by starting at some intial tone and continually adding 7 semitones, or continually subtracting 7 semitones (equivalent to continually adding 5 semitones - or \"perfect fourths\"):"
   ]
  },
  {
   "cell_type": "code",
   "execution_count": 11,
   "id": "15613c4d",
   "metadata": {},
   "outputs": [
    {
     "name": "stdout",
     "output_type": "stream",
     "text": [
      "ascending circle of fifths: [0, 7, 2, 9, 4, 11, 6, 1, 8, 3, 10, 5]\n",
      "ascending circle of fifths in chromatic order: [0, 1, 2, 3, 4, 5, 6, 7, 8, 9, 10, 11]\n",
      "descending circle of fifths: [0, 5, 10, 3, 8, 1, 6, 11, 4, 9, 2, 7]\n",
      "descending circle of fifths in chromatic order: [0, 1, 2, 3, 4, 5, 6, 7, 8, 9, 10, 11]\n"
     ]
    }
   ],
   "source": [
    "def get_ascending_circle_of_fifths() -> list[int]:\n",
    "    initial_position = 0\n",
    "    result = [initial_position]\n",
    "    for i in range(11):\n",
    "        initial_position = modular_addition(initial_position, 7)\n",
    "        result.append(initial_position)\n",
    "    return result\n",
    "\n",
    "def get_descending_circle_of_fifths() -> list[int]:\n",
    "    initial_position = 0\n",
    "    result = [initial_position]\n",
    "    for i in range(11):\n",
    "        initial_position = modular_addition(initial_position, -7)\n",
    "        result.append(initial_position)\n",
    "    return result\n",
    "\n",
    "ascending_circle_of_fifths = get_ascending_circle_of_fifths()\n",
    "descending_circle_of_fifths = get_descending_circle_of_fifths()\n",
    "\n",
    "\n",
    "print(f'ascending circle of fifths: {ascending_circle_of_fifths}')\n",
    "print(f'ascending circle of fifths in chromatic order: {sorted(ascending_circle_of_fifths)}')\n",
    "print(f'descending circle of fifths: {descending_circle_of_fifths}')\n",
    "print(f'descending circle of fifths in chromatic order: {sorted(descending_circle_of_fifths)}')"
   ]
  },
  {
   "cell_type": "markdown",
   "id": "4794a4d1",
   "metadata": {},
   "source": [
    "By convention, sharps are used when going clockwise around the circle of fifths and flats are used when going counter-clockwise:"
   ]
  },
  {
   "cell_type": "code",
   "execution_count": 12,
   "id": "11fdb4c5",
   "metadata": {},
   "outputs": [
    {
     "name": "stdout",
     "output_type": "stream",
     "text": [
      "ascending circle of fifths:\n",
      "['C', 'G', 'D', 'A', 'E', 'B', 'F#', 'C#', 'G#', 'D#', 'A#', 'F']\n",
      "\n",
      "descending circle of fifths:\n",
      "['C', 'F', 'Bb', 'Eb', 'Ab', 'Db', 'Gb', 'B', 'E', 'A', 'D', 'G']\n"
     ]
    }
   ],
   "source": [
    "ascending_tone_map = {0: \"C\", 1: \"C#\", 2: \"D\", 3: \"D#\", 4: \"E\", 5: \"F\", 6: \"F#\", 7: \"G\", 8: \"G#\", 9: \"A\", 10: \"A#\", 11: \"B\"}\n",
    "descending_tone_map = {0: \"C\", 1: \"Db\", 2: \"D\", 3: \"Eb\", 4: \"E\", 5: \"F\", 6: \"Gb\", 7: \"G\", 8: \"Ab\", 9: \"A\", 10: \"Bb\", 11: \"B\"}\n",
    "\n",
    "def map_tones_to_letters(tones: list[int], tone_map: dict) -> list[str]:\n",
    "    result = []\n",
    "    for tone in tones:\n",
    "        letter = tone_map[tone]\n",
    "        result.append(letter)\n",
    "    return result\n",
    "\n",
    "ascending_circle_of_fifths_tones = get_ascending_circle_of_fifths()\n",
    "ascending_circle_of_fifths = map_tones_to_letters(ascending_circle_of_fifths_tones, ascending_tone_map)\n",
    "descending_circle_of_fifths_tones = get_descending_circle_of_fifths()\n",
    "descending_circle_of_fifths = map_tones_to_letters(descending_circle_of_fifths_tones, descending_tone_map)\n",
    "\n",
    "print('ascending circle of fifths:')\n",
    "print(ascending_circle_of_fifths)\n",
    "\n",
    "print('\\ndescending circle of fifths:')\n",
    "print(descending_circle_of_fifths)"
   ]
  },
  {
   "cell_type": "markdown",
   "id": "d112056d",
   "metadata": {},
   "source": [
    "Thinking of the integers modulo 12 as a mathematical group, the above observations show that the numbers 1 and 7 are *generators* of the group in the sense that we can generate the entire group by starting from some initial element and repeatedly adding 1 to that element or repeatedly adding 7 to that element.\n",
    "\n",
    "It turns out that a number can only be a generator of the integers modulo 12 if it is coprime with 12. \n",
    "We can find all the numbers that are co-prime with 12 as follows:"
   ]
  },
  {
   "cell_type": "code",
   "execution_count": 32,
   "id": "9b3281fa",
   "metadata": {},
   "outputs": [
    {
     "name": "stdout",
     "output_type": "stream",
     "text": [
      "modulo 12 integers coprime with 12:\n",
      "{1, 11, 5, 7}\n"
     ]
    }
   ],
   "source": [
    "from math import gcd as bltin_gcd\n",
    "\n",
    "\n",
    "def are_coprime(int_1: int, int_2: int):\n",
    "    return bltin_gcd(int_1, int_2) == 1\n",
    "\n",
    "\n",
    "def get_modulo_n_coprimes(n: int) -> set[int]:\n",
    "    result = []\n",
    "    for i in range(n):\n",
    "        if are_coprime(n, i):\n",
    "            result.append(i)\n",
    "    return set(result)\n",
    "\n",
    "print('modulo 12 integers coprime with 12:')\n",
    "print(get_modulo_n_coprimes(12))"
   ]
  },
  {
   "cell_type": "markdown",
   "id": "f6d80197",
   "metadata": {},
   "source": [
    "In the above example, the set {1, 5, 7, 11} is called a *reduced residue system modulo 12*, and the four elements of the set are called *totatives* after Euler's *totient function* φ(n) which counts the number of totatives of n.\n",
    "\n",
    "See https://en.wikipedia.org/wiki/Reduced_residue_system#:~:text=For%20example%2C%20a%20complete%20residue,5%2C%207%2C%2011%7D \n",
    "and https://en.wikipedia.org/wiki/Totative for more information."
   ]
  },
  {
   "cell_type": "markdown",
   "id": "7e46bcad",
   "metadata": {},
   "source": [
    "## Ascending Tone Scales\n",
    "\n",
    "An *ascending tone scale* is a sequence of tones starting and ending on the same tone which moves in a clock-wise direction around the circle of 12 tones.\n",
    "\n",
    "The following class encodes some ideas involving tone scales:"
   ]
  },
  {
   "cell_type": "code",
   "execution_count": 14,
   "id": "b6c28118",
   "metadata": {},
   "outputs": [],
   "source": [
    "from itertools import pairwise\n",
    "from typing import Self\n",
    "\n",
    "\n",
    "class ToneScale(object):\n",
    "    def __init__(self,  ascending_tone_scale: list[int]) -> bool:\n",
    "        self.validate_is_ascending_tone_scale(ascending_tone_scale)\n",
    "        inital_tone: int = ascending_tone_scale[0]\n",
    "        ascending_tone_scale.append(inital_tone)\n",
    "        self.ascending_tone_scale: list[int] = ascending_tone_scale\n",
    "\n",
    "\n",
    "    def validate_is_ascending_tone_scale(self, ascending_tone_scale: list[int]) -> None:\n",
    "        self.validate_is_greater_than_size_two(ascending_tone_scale)\n",
    "        self.validate_is_increasing(ascending_tone_scale)\n",
    "        self.validate_all_elements_are_allowed_values(ascending_tone_scale)\n",
    "        self.validate_all_elements_are_distinct(ascending_tone_scale)\n",
    "        self.validate_initial_not_equal_to_final(ascending_tone_scale)\n",
    "        \n",
    "        \n",
    "    def validate_is_greater_than_size_two(self, ascending_tone_scale: list[int]) -> None:\n",
    "        if len(ascending_tone_scale) < 3:\n",
    "            raise ValueError(f'sequence {ascending_tone_scale} is less than size 3!')\n",
    "        \n",
    "\n",
    "    def validate_is_increasing(self, ascending_tone_scale: list[int]) -> None:\n",
    "        less_than_count = 0\n",
    "        \n",
    "        seen_so_far = []\n",
    "        for (x, y) in pairwise(ascending_tone_scale):\n",
    "            if y < x:\n",
    "                less_than_count += 1\n",
    "        if less_than_count > 1:\n",
    "            raise ValueError(f'sequence {ascending_tone_scale} is not increasing!')\n",
    "        self.does_not_change_direction(ascending_tone_scale)\n",
    "            \n",
    "            \n",
    "    def does_not_change_direction(self, ascending_tone_scale: list[int]) -> None:\n",
    "        seen_so_far = []\n",
    "        for (x, y) in pairwise(ascending_tone_scale):\n",
    "            seen_so_far.extend([x, y])\n",
    "            y_between_seen_so_far: bool = self.is_between_seen_so_far(seen_so_far, y)\n",
    "            if x >= y and y_between_seen_so_far:\n",
    "                raise ValueError(f'sequence {ascending_tone_scale} changes directions!')\n",
    "\n",
    "\n",
    "    def is_between_seen_so_far(self, seen_so_far: list[int], y: int) -> bool:\n",
    "        for (x, z) in pairwise(seen_so_far):\n",
    "            if x < y < z:\n",
    "                return True\n",
    "        return False\n",
    "\n",
    "\n",
    "    def validate_all_elements_are_allowed_values(self, ascending_tone_scale: list[int]) -> None:\n",
    "        allowed_values: set = {x for x in range(12)}\n",
    "        for element in ascending_tone_scale:\n",
    "            if element not in allowed_values:\n",
    "                raise ValueError(f'all elements of {ascending_tone_scale} are not in the set of integers modulo 12!')\n",
    "\n",
    "\n",
    "    def validate_all_elements_are_distinct(self, ascending_tone_scale: list[int]) -> None:\n",
    "        s = set(ascending_tone_scale)\n",
    "        if len(s) != len(ascending_tone_scale):\n",
    "            raise ValueError(f'all elements of {ascending_tone_scale} are not distinct!')\n",
    "            \n",
    "\n",
    "    def validate_initial_not_equal_to_final(self, ascending_tone_scale: list[int]) -> None:\n",
    "        if ascending_tone_scale[0] == ascending_tone_scale[-1]:\n",
    "            raise ValueError(f'initial element of sequence {ascending_tone_scale} is equal to final sequence element!')\n",
    "            \n",
    "    \n",
    "    def get_retrograde(self) -> list[int]:\n",
    "        return list(reversed(self.ascending_tone_scale))\n",
    "\n",
    "    def get_full_tone_scale_from_ascending_tone_scale(self) -> list[int]:\n",
    "        '''a full tone scale is a palendrome.'''\n",
    "        return self.ascending_tone_scale[:-1] + self.get_retrograde()\n",
    "    \n",
    "    \n",
    "    def get_tone_scale_size(self) -> int:\n",
    "        return len(self.ascending_tone_scale) - 1\n",
    "    \n",
    "    \n",
    "    def tone_interval(self, tone_1: int, tone_2: int) -> int:\n",
    "        return (tone_2 - tone_1) % 12\n",
    "\n",
    "    \n",
    "    def get_tone_interval_sequence(self) -> list[int]:\n",
    "        interval_sequence: list[int] = [self.tone_interval(x, y) for x, y in pairwise(self.ascending_tone_scale)]\n",
    "        assert len(interval_sequence) == self.get_tone_scale_size()\n",
    "        return interval_sequence\n",
    "    \n",
    "    \n",
    "    def get_tonic(self) -> int:\n",
    "        return self.ascending_tone_scale[0]\n",
    "    \n",
    "\n",
    "    def scales_are_of_same_type(self, other: Self) -> bool:\n",
    "        '''we can define an equivalence class on scales where two scales are equivalent\n",
    "           if their corresponding interval sequences are equal'''\n",
    "        return self.get_tone_interval_sequence() == other.get_tone_interval_sequence()\n",
    "    \n",
    "\n",
    "    def rotate_interval_sequence(self, n: int) -> list[int]:\n",
    "        interval_sequence: list[int] = self.get_tone_interval_sequence()\n",
    "        return interval_sequence[n:] + interval_sequence[:n]\n",
    "    \n",
    "    \n",
    "    def print_interval_sequence_modes(self) -> None:\n",
    "        '''rotations will repeat after `size` rotations.'''\n",
    "        size: int = self.get_tone_scale_size()\n",
    "        print(f'\\ninterval sequence modes of {self}:')\n",
    "        \n",
    "        for i in range(size):\n",
    "            print(self.rotate_interval_sequence(i))\n",
    "            \n",
    "            \n",
    "    def get_kth_tone_scale_mode(self, k: int) -> Self:\n",
    "        tonic = self.get_tonic()\n",
    "        kth_interval_mode = self.rotate_interval_sequence(k)\n",
    "        derived_tone_scale: ToneScale = self.get_tone_scale_from_tone_and_interval_sequence(tonic, kth_interval_mode)\n",
    "        return derived_tone_scale\n",
    "    \n",
    "    \n",
    "    def print_tone_scale_modes(self) -> None:\n",
    "        size: int = self.get_tone_scale_size()\n",
    "        print(f'\\ntone scale modes of {self}:')\n",
    "        \n",
    "        for i in range(size):\n",
    "            print(self.get_kth_tone_scale_mode(i))\n",
    "\n",
    "    def get_tone_scale_from_tone_and_interval_sequence(self, tone: int, interval_sequence: list[int]) -> list[int]:\n",
    "        scale = [tone]\n",
    "        current_tone = tone\n",
    "        for interval in interval_sequence:\n",
    "                current_tone = (current_tone + interval) % 12\n",
    "                scale.append(current_tone)\n",
    "        return ToneScale(scale[:-1])\n",
    "    \n",
    "    def get_scale_degree(self, n: int) -> int:\n",
    "        return self.ascending_tone_scale[n-1]\n",
    "\n",
    "    \n",
    "    def __str__(self):\n",
    "        return str(self.ascending_tone_scale)\n",
    "    \n",
    "\n",
    "def get_tone_scale_from_tone_and_interval_sequence(tone: int, interval_sequence: list[int]) -> list[int]:\n",
    "    scale = [tone]\n",
    "    current_tone = tone\n",
    "    for interval in interval_sequence:\n",
    "            current_tone = (current_tone + interval) % 12\n",
    "            scale.append(current_tone)\n",
    "    return ToneScale(scale[:-1])\n",
    "            "
   ]
  },
  {
   "cell_type": "markdown",
   "id": "09043029",
   "metadata": {},
   "source": [
    "We can exercise the methods of the above class as follows:"
   ]
  },
  {
   "cell_type": "code",
   "execution_count": 15,
   "id": "82e96820",
   "metadata": {},
   "outputs": [
    {
     "name": "stdout",
     "output_type": "stream",
     "text": [
      "\n",
      " sequence [0, 1] is less than size 3!\n",
      "\n",
      " sequence [6, 5, 4, 3, 2, 1, 0] is not increasing!\n",
      "\n",
      " sequence [2, 4, 6, 7, 9, 8, 1] is not increasing!\n",
      "\n",
      " sequence [10, 11, 2, 1] is not increasing!\n",
      "\n",
      " all elements of ['a', 'b', 'c'] are not in the set of integers modulo 12!\n",
      "\n",
      " all elements of [1, 2, 3, 4, 4] are not distinct!\n",
      "\n",
      " all elements of [2, 4, 6, 7, 9, 11, 1, 2] are not distinct!\n",
      "\n",
      "tone scale: [2, 4, 6, 7, 9, 11, 1, 2]\n",
      "scale degree 1 = 2\n",
      "scale degree 8 = 2\n",
      "tone interval sequence: [2, 2, 1, 2, 2, 2, 1]\n",
      "retrograde: [2, 1, 11, 9, 7, 6, 4, 2]\n",
      "full scale: [2, 4, 6, 7, 9, 11, 1, 2, 1, 11, 9, 7, 6, 4, 2]\n",
      "initial tone: 0\n",
      "interval sequence: [2, 2, 1, 2, 2, 2, 1]\n",
      "tone_scale derived from initial tone and interval sequence: [0, 2, 4, 5, 7, 9, 11, 0]\n",
      "tone scale and derived tone scale are equivalent: True\n",
      "\n",
      "interval sequence modes of [2, 4, 6, 7, 9, 11, 1, 2]:\n",
      "[2, 2, 1, 2, 2, 2, 1]\n",
      "[2, 1, 2, 2, 2, 1, 2]\n",
      "[1, 2, 2, 2, 1, 2, 2]\n",
      "[2, 2, 2, 1, 2, 2, 1]\n",
      "[2, 2, 1, 2, 2, 1, 2]\n",
      "[2, 1, 2, 2, 1, 2, 2]\n",
      "[1, 2, 2, 1, 2, 2, 2]\n",
      "\n",
      "tone scale modes of [2, 4, 6, 7, 9, 11, 1, 2]:\n",
      "[2, 4, 6, 7, 9, 11, 1, 2]\n",
      "[2, 4, 5, 7, 9, 11, 0, 2]\n",
      "[2, 3, 5, 7, 9, 10, 0, 2]\n",
      "[2, 4, 6, 8, 9, 11, 1, 2]\n",
      "[2, 4, 6, 7, 9, 11, 0, 2]\n",
      "[2, 4, 5, 7, 9, 10, 0, 2]\n",
      "[2, 3, 5, 7, 8, 10, 0, 2]\n"
     ]
    }
   ],
   "source": [
    "invalid_sequences = [\n",
    "    [0, 1],\n",
    "    [6, 5, 4, 3, 2, 1, 0], \n",
    "    [2, 4, 6, 7, 9, 8, 1],\n",
    "    [10, 11, 2, 1],\n",
    "    ['a', 'b', 'c'],\n",
    "    [1, 2, 3, 4, 4],\n",
    "    [2, 4, 6, 7, 9, 11, 1, 2]\n",
    "]\n",
    "for invalid_sequence in invalid_sequences:\n",
    "    try:\n",
    "        ToneScale(invalid_sequence)\n",
    "    except ValueError as e:\n",
    "        print('\\n', str(e))\n",
    "\n",
    "tone_scale = ToneScale([2, 4, 6, 7, 9, 11, 1])\n",
    "print('\\ntone scale:', tone_scale)\n",
    "print('scale degree 1 =', tone_scale.get_scale_degree(1))\n",
    "print('scale degree 8 =', tone_scale.get_scale_degree(8))\n",
    "print('tone interval sequence:', tone_scale.get_tone_interval_sequence())\n",
    "print('retrograde:', tone_scale.get_retrograde())\n",
    "print('full scale:', tone_scale.get_full_tone_scale_from_ascending_tone_scale())\n",
    "\n",
    "initial_tone = 0\n",
    "interval_sequence = [2, 2, 1, 2, 2, 2, 1]\n",
    "derived_tone_scale = get_tone_scale_from_tone_and_interval_sequence(initial_tone, interval_sequence)\n",
    "\n",
    "print('initial tone:', initial_tone)\n",
    "print('interval sequence:', interval_sequence)\n",
    "print('tone_scale derived from initial tone and interval sequence:', derived_tone_scale)\n",
    "\n",
    "print('tone scale and derived tone scale are equivalent:', tone_scale.scales_are_of_same_type(derived_tone_scale))\n",
    "tone_scale.print_interval_sequence_modes()\n",
    "tone_scale.print_tone_scale_modes()"
   ]
  },
  {
   "cell_type": "markdown",
   "id": "096f138c",
   "metadata": {},
   "source": [
    "## Diatonic Tones\n",
    "\n",
    "The *diatonic system* is a way of viewing the chromatic scale through the lens of a subset of just seven specific tones, with the remaining five tones being viewed as *modifications* of the initial seven tones via lowering and raising operators called *accidentals*.\n",
    "\n",
    "The diatonic system provides a tonal reference system and an organizing tonal filter, that provides a foundation for diatonic scales such as major, minor, etc.\n",
    "\n",
    "In the diatonic system, only 7 of the 12 tones in an octave are granted one of the letter names from the set:\n",
    "\n",
    "{C, D, E, F, G, A, B}.\n",
    "\n",
    "Tones from the above set are called *basic diatonic tones*.\n",
    "\n",
    "The remaining five tones not granted letter names are considered augmented tone variations of the neighboring basic tones. All 12 tones together are called diatonic tones. In the context of the musical staff, the remaining five tones are also not granted their own lines or spaces.\n",
    "\n",
    "The origin of the notion of a diatonic system comes from the C major which can be played on 7 consecutive white keys of the keyboard.\n",
    "\n",
    "We can work with the integers modulo 7 in addition to the set of diatonic letter names.\n",
    "\n",
    "We can define the following interval functions on the diatonic system:"
   ]
  },
  {
   "cell_type": "code",
   "execution_count": 33,
   "id": "0593e28d",
   "metadata": {},
   "outputs": [
    {
     "name": "stdout",
     "output_type": "stream",
     "text": [
      "interval from E to F is: 1\n",
      "interval from F to E is: 6\n",
      "symmetric diatonic interval from 2 to 3: 1\n",
      "symmetric diatonic interval from 3 to 2: 1\n"
     ]
    }
   ],
   "source": [
    "diatonic_tone_map = {0: 'C', 1: 'D', 2: 'E', 3: 'F', 4: 'G', 5: 'A', 6: 'B'}\n",
    "\n",
    "def diatonic_interval(tone_1: int, tone_2: int) -> int:\n",
    "    return (tone_2 - tone_1) % 7\n",
    "\n",
    "\n",
    "def symmetric_diatonic_interval(tone_1: int, tone_2: int) -> int:\n",
    "    interval_1 = diatonic_interval(tone_1, tone_2)\n",
    "    interval_2 = diatonic_interval(tone_2, tone_1)\n",
    "    return min(interval_1, interval_2)\n",
    "    \n",
    "\n",
    "print(f'interval from {diatonic_tone_map[2]} to {diatonic_tone_map[3]} is: {diatonic_interval(2, 3)}')\n",
    "print(f'interval from {diatonic_tone_map[3]} to {diatonic_tone_map[2]} is: {diatonic_interval(3, 2)}')\n",
    "diatonic_interval(3, 2)\n",
    "\n",
    "print('symmetric diatonic interval from 2 to 3:', end=' ')\n",
    "print(symmetric_diatonic_interval(2, 3))\n",
    "print('symmetric diatonic interval from 3 to 2:', end=' ')\n",
    "print(symmetric_diatonic_interval(3, 2))"
   ]
  },
  {
   "cell_type": "markdown",
   "id": "9d815437",
   "metadata": {},
   "source": [
    "We can add intervals as well. For example:"
   ]
  },
  {
   "cell_type": "code",
   "execution_count": 35,
   "id": "bfe76119",
   "metadata": {},
   "outputs": [
    {
     "name": "stdout",
     "output_type": "stream",
     "text": [
      "interval from 2 to 3 plus the interval from 2 to 3: 2\n"
     ]
    }
   ],
   "source": [
    "print('interval from 2 to 3 plus the interval from 2 to 3:', end=' ')\n",
    "print(diatonic_interval(2, 3) + diatonic_interval(2, 3))"
   ]
  },
  {
   "cell_type": "markdown",
   "id": "3d9ec8b1",
   "metadata": {},
   "source": [
    "Sums such as the above make intuitive sense: taking one step and then taking one more step results in a total of 2 steps.\n",
    "Unfortunately, traditional notation does not consider the difference when computing an interval, but instead considers the total number of diatonic tones in a scale that reaches from the initial tone to the final tone. For example, the interval from C to D is called a *second* because the diatonic scale C-D has 2 tones, and the interval from C to G is called a *fifth* because the diatonic scale C-D-E-F-G has 5 tones. This traditional interval function can be encoded as follows:"
   ]
  },
  {
   "cell_type": "code",
   "execution_count": 18,
   "id": "37acd91b",
   "metadata": {},
   "outputs": [
    {
     "name": "stdout",
     "output_type": "stream",
     "text": [
      "traditional diatonic interval from C to D is: 2\n",
      "traditional diatonic interval from C to G is: 5\n"
     ]
    }
   ],
   "source": [
    "def traditional_diatonic_interval(tone_1: int, tone_2: int) -> int:\n",
    "    return (tone_2 - tone_1) % 7 + 1\n",
    "\n",
    "\n",
    "print(f'traditional diatonic interval from {diatonic_tone_map[0]} to {diatonic_tone_map[1]} is: {traditional_diatonic_interval(0, 1)}')\n",
    "print(f'traditional diatonic interval from {diatonic_tone_map[0]} to {diatonic_tone_map[4]} is: {traditional_diatonic_interval(0, 4)}')"
   ]
  },
  {
   "cell_type": "markdown",
   "id": "dcddb253",
   "metadata": {},
   "source": [
    "Unfortunately, sums of intervals in the traditional notation do not often make logical sense. For example, we get the confusing result that a third plus a third equals a fourth:"
   ]
  },
  {
   "cell_type": "code",
   "execution_count": 19,
   "id": "0d62ef48",
   "metadata": {},
   "outputs": [
    {
     "name": "stdout",
     "output_type": "stream",
     "text": [
      "traditional diatonic interval from C to E is: 3\n",
      "a thid plus a third is a distance of: 4\n"
     ]
    }
   ],
   "source": [
    "a_third_plus_a_third = diatonic_interval(0, 2) + diatonic_interval(0, 2)\n",
    "\n",
    "print(f'traditional diatonic interval from {diatonic_tone_map[0]} to {diatonic_tone_map[2]} is: {traditional_diatonic_interval(0, 2)}')\n",
    "print(f'a thid plus a third is a distance of: {a_third_plus_a_third}')"
   ]
  },
  {
   "cell_type": "markdown",
   "id": "28fb1893",
   "metadata": {},
   "source": [
    "To see what kinds of circular structures we can make in the context of a diatonic system, we can first find all possible generators of the integers modulo 7:"
   ]
  },
  {
   "cell_type": "code",
   "execution_count": 20,
   "id": "99db1850",
   "metadata": {},
   "outputs": [
    {
     "data": {
      "text/plain": [
       "{1, 2, 3, 4, 5, 6}"
      ]
     },
     "execution_count": 20,
     "metadata": {},
     "output_type": "execute_result"
    }
   ],
   "source": [
    "get_modulo_n_coprimes(7)"
   ]
  },
  {
   "cell_type": "markdown",
   "id": "6d673318",
   "metadata": {},
   "source": [
    "Intuitively, the above result is obvious - since 7 is a prime number, all numbers less than 7 are coprime with it. As a result, all elements except for 0 can be used to generate the entire group of integers modulo 7. For example: "
   ]
  },
  {
   "cell_type": "code",
   "execution_count": 37,
   "id": "8340a7e9",
   "metadata": {},
   "outputs": [
    {
     "name": "stdout",
     "output_type": "stream",
     "text": [
      "all possible generations modulo 7 starting from 0:\n",
      "\n",
      "[0, 1, 2, 3, 4, 5, 6]\n",
      "[0, 2, 4, 6, 1, 3, 5]\n",
      "[0, 3, 6, 2, 5, 1, 4]\n",
      "[0, 4, 1, 5, 2, 6, 3]\n",
      "[0, 5, 3, 1, 6, 4, 2]\n",
      "[0, 6, 5, 4, 3, 2, 1]\n"
     ]
    }
   ],
   "source": [
    "def addition_mod_7(int_1: int, int_2: int) -> int:\n",
    "    return (int_2 + int_1) % 7\n",
    "\n",
    "\n",
    "def generate_intergers_modulo_7(initial_position: int, step_size: int) -> list[int]:\n",
    "    result = [initial_position]\n",
    "    for i in range(6):\n",
    "        initial_position = addition_mod_7(initial_position, step_size)\n",
    "        result.append(initial_position)\n",
    "    return result\n",
    "\n",
    "print('all possible generations modulo 7 starting from 0:\\n')\n",
    "for i in range(1, 7):\n",
    "    print(generate_intergers_modulo_7(0, i))"
   ]
  },
  {
   "cell_type": "code",
   "execution_count": null,
   "id": "3d898f2f",
   "metadata": {},
   "outputs": [],
   "source": []
  }
 ],
 "metadata": {
  "kernelspec": {
   "display_name": "Python 3 (ipykernel)",
   "language": "python",
   "name": "python3"
  },
  "language_info": {
   "codemirror_mode": {
    "name": "ipython",
    "version": 3
   },
   "file_extension": ".py",
   "mimetype": "text/x-python",
   "name": "python",
   "nbconvert_exporter": "python",
   "pygments_lexer": "ipython3",
   "version": "3.11.1"
  }
 },
 "nbformat": 4,
 "nbformat_minor": 5
}
